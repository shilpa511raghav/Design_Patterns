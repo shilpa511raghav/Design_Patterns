{
 "cells": [
  {
   "cell_type": "code",
   "execution_count": 1,
   "metadata": {},
   "outputs": [
    {
     "name": "stdout",
     "output_type": "stream",
     "text": [
      "racecar driving\n"
     ]
    }
   ],
   "source": [
    "class Car(object):\n",
    "    def factory (type):\n",
    "        if type == \"racecar\":\n",
    "            return racecar()\n",
    "        if type== \"van\":\n",
    "            return van()\n",
    "        assert 0,\"bad car creation:\"+ type\n",
    "        factory = staticmethod(factory)\n",
    "        \n",
    "class racecar(Car):\n",
    "    def drive(self):\n",
    "        print (\"racecar driving\")\n",
    "class van(Car):\n",
    "    def drive(self):\n",
    "        print(\"van driving\")\n",
    "\n",
    "obj= Car.factory(\"racecar\")\n",
    "obj.drive()       "
   ]
  },
  {
   "cell_type": "code",
   "execution_count": null,
   "metadata": {},
   "outputs": [],
   "source": []
  },
  {
   "cell_type": "code",
   "execution_count": null,
   "metadata": {},
   "outputs": [],
   "source": []
  }
 ],
 "metadata": {
  "kernelspec": {
   "display_name": "Python 3",
   "language": "python",
   "name": "python3"
  },
  "language_info": {
   "codemirror_mode": {
    "name": "ipython",
    "version": 3
   },
   "file_extension": ".py",
   "mimetype": "text/x-python",
   "name": "python",
   "nbconvert_exporter": "python",
   "pygments_lexer": "ipython3",
   "version": "3.6.4"
  }
 },
 "nbformat": 4,
 "nbformat_minor": 2
}
